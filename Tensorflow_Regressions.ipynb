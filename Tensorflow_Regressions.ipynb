{
 "cells": [
  {
   "cell_type": "code",
   "execution_count": 1,
   "id": "eac6856a",
   "metadata": {},
   "outputs": [],
   "source": [
    "import pandas as pd\n",
    "import numpy as np\n",
    "import matplotlib.pyplot as plt"
   ]
  },
  {
   "cell_type": "markdown",
   "id": "f32ccc4a",
   "metadata": {},
   "source": [
    "##### This data is from Kaggle and provides information about 500 applications for various universities and what their chance of admittance is. We will build a regression model from this to predict any future admission and chance of acceptence"
   ]
  },
  {
   "cell_type": "markdown",
   "id": "1ac454a0",
   "metadata": {},
   "source": [
    "#### Load in dataset"
   ]
  },
  {
   "cell_type": "code",
   "execution_count": 2,
   "id": "449d75bb",
   "metadata": {},
   "outputs": [
    {
     "name": "stdout",
     "output_type": "stream",
     "text": [
      "Index(['Serial No.', 'GRE Score', 'TOEFL Score', 'University Rating', 'SOP',\n",
      "       'LOR ', 'CGPA', 'Research', 'Chance of Admit '],\n",
      "      dtype='object')\n"
     ]
    }
   ],
   "source": [
    "df = pd.read_csv('data/admissions_data.csv')\n",
    "print(df.columns)"
   ]
  },
  {
   "cell_type": "markdown",
   "id": "80483322",
   "metadata": {},
   "source": [
    "#### Create feautures and labels"
   ]
  },
  {
   "cell_type": "code",
   "execution_count": 3,
   "id": "8959625b",
   "metadata": {},
   "outputs": [],
   "source": [
    "features = df.iloc[:,:-1]\n",
    "labels = df.iloc[:,-1]\n",
    "features = features.drop('Serial No.', axis=1)\n"
   ]
  },
  {
   "cell_type": "code",
   "execution_count": 4,
   "id": "94457f37",
   "metadata": {},
   "outputs": [
    {
     "name": "stdout",
     "output_type": "stream",
     "text": [
      "     GRE Score  TOEFL Score  University Rating  SOP  LOR   CGPA  Research\n",
      "0          337          118                  4  4.5   4.5  9.65         1\n",
      "1          324          107                  4  4.0   4.5  8.87         1\n",
      "2          316          104                  3  3.0   3.5  8.00         1\n",
      "3          322          110                  3  3.5   2.5  8.67         1\n",
      "4          314          103                  2  2.0   3.0  8.21         0\n",
      "..         ...          ...                ...  ...   ...   ...       ...\n",
      "495        332          108                  5  4.5   4.0  9.02         1\n",
      "496        337          117                  5  5.0   5.0  9.87         1\n",
      "497        330          120                  5  4.5   5.0  9.56         1\n",
      "498        312          103                  4  4.0   5.0  8.43         0\n",
      "499        327          113                  4  4.5   4.5  9.04         0\n",
      "\n",
      "[500 rows x 7 columns]\n",
      "0      0.92\n",
      "1      0.76\n",
      "2      0.72\n",
      "3      0.80\n",
      "4      0.65\n",
      "       ... \n",
      "495    0.87\n",
      "496    0.96\n",
      "497    0.93\n",
      "498    0.73\n",
      "499    0.84\n",
      "Name: Chance of Admit , Length: 500, dtype: float64\n"
     ]
    }
   ],
   "source": [
    "print(features)\n",
    "print(labels)"
   ]
  },
  {
   "cell_type": "markdown",
   "id": "d87131eb",
   "metadata": {},
   "source": [
    "#### Split into training and test set"
   ]
  },
  {
   "cell_type": "code",
   "execution_count": 5,
   "id": "4195640e",
   "metadata": {},
   "outputs": [],
   "source": [
    "from sklearn.model_selection import train_test_split"
   ]
  },
  {
   "cell_type": "code",
   "execution_count": 6,
   "id": "68066a34",
   "metadata": {},
   "outputs": [],
   "source": [
    "features_training_set, features_test_set, lables_training_set, labels_test_set = train_test_split(features, labels, \n",
    "                                                                                   test_size=0.20, random_state=42)"
   ]
  },
  {
   "cell_type": "markdown",
   "id": "9ce690a8",
   "metadata": {},
   "source": [
    "#### Scaling and Normalizing numerical data"
   ]
  },
  {
   "cell_type": "code",
   "execution_count": 7,
   "id": "74424425",
   "metadata": {},
   "outputs": [],
   "source": [
    "from sklearn.preprocessing import StandardScaler\n",
    "from sklearn.preprocessing import Normalizer\n",
    "from sklearn.compose import ColumnTransformer\n"
   ]
  },
  {
   "cell_type": "code",
   "execution_count": 8,
   "id": "2c441b9a",
   "metadata": {},
   "outputs": [],
   "source": [
    "scaler = ColumnTransformer([('scale', StandardScaler(), ['GRE Score', 'TOEFL Score', 'University Rating', 'SOP',\n",
    "       'LOR ', 'CGPA', 'Research'])], remainder='passthrough')\n",
    "#fit the scaler to the training data and test data\n",
    "features_training_set_scale = scaler.fit_transform(features_training_set) \n",
    "features_test_set_scale = scaler.transform(features_test_set) \n",
    "\n",
    "#ColumnTransformer returns numpy arrays. Convert the features to dataframes\n",
    "features_training_set_scale = pd.DataFrame(features_training_set_scale, columns = features_training_set.columns)\n",
    "features_test_set_scale = pd.DataFrame(features_test_set_scale, columns = features_test_set.columns)"
   ]
  },
  {
   "cell_type": "markdown",
   "id": "e10f6d97",
   "metadata": {},
   "source": [
    "#### Creating a function of tensorflow model"
   ]
  },
  {
   "cell_type": "code",
   "execution_count": null,
   "id": "a15a3e10",
   "metadata": {},
   "outputs": [],
   "source": [
    "from tensorflow.keras.models import Sequential\n",
    "from tensorflow.keras import layers"
   ]
  },
  {
   "cell_type": "code",
   "execution_count": null,
   "id": "f833a1f1",
   "metadata": {},
   "outputs": [],
   "source": [
    "def regression_model():\n",
    "    model = Sequential()\n",
    "    input = InputLayer(input_shape = (features.shape[7], ))\n",
    "    my_model.add(input)\n",
    "    my_model.add(Dense(64, activation='relu'))\n",
    "    my_model.add(Dense(1))\n",
    "    print(my_model.summary())\n",
    "    model.add()"
   ]
  }
 ],
 "metadata": {
  "kernelspec": {
   "display_name": "Python 3.9 (tensorflow)",
   "language": "python",
   "name": "tensorflow"
  },
  "language_info": {
   "codemirror_mode": {
    "name": "ipython",
    "version": 3
   },
   "file_extension": ".py",
   "mimetype": "text/x-python",
   "name": "python",
   "nbconvert_exporter": "python",
   "pygments_lexer": "ipython3",
   "version": "3.9.6"
  }
 },
 "nbformat": 4,
 "nbformat_minor": 5
}

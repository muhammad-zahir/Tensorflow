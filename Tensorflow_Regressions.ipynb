{
 "cells": [
  {
   "cell_type": "code",
   "execution_count": 1,
   "id": "eac6856a",
   "metadata": {},
   "outputs": [
    {
     "name": "stdout",
     "output_type": "stream",
     "text": [
      "Init Plugin\n",
      "readyInit Graph Optimizer\n",
      "Init Kernel\n",
      "\n"
     ]
    }
   ],
   "source": [
    "import pandas as pd\n",
    "import numpy as np\n",
    "import matplotlib.pyplot as plt\n",
    "import tensorflow as tf\n",
    "print('ready')"
   ]
  },
  {
   "cell_type": "markdown",
   "id": "f32ccc4a",
   "metadata": {},
   "source": [
    "##### This data is from Kaggle and provides information about 500 applications for various universities and what their chance of admittance is. We will build a regression model from this to predict any future admission and chance of acceptence"
   ]
  },
  {
   "cell_type": "markdown",
   "id": "1ac454a0",
   "metadata": {},
   "source": [
    "#### Load in dataset"
   ]
  },
  {
   "cell_type": "code",
   "execution_count": 2,
   "id": "449d75bb",
   "metadata": {},
   "outputs": [
    {
     "name": "stdout",
     "output_type": "stream",
     "text": [
      "Index(['Serial No.', 'GRE Score', 'TOEFL Score', 'University Rating', 'SOP',\n",
      "       'LOR ', 'CGPA', 'Research', 'Chance of Admit '],\n",
      "      dtype='object')\n"
     ]
    }
   ],
   "source": [
    "url = 'https://raw.githubusercontent.com/vinay-jaju/EDA-and-PCA-on-Graduate-Admission-Dataset/master/input/Admission_Predict_Ver1.1.csv'\n",
    "df = pd.read_csv(url)\n",
    "print(df.columns)"
   ]
  },
  {
   "cell_type": "markdown",
   "id": "80483322",
   "metadata": {},
   "source": [
    "#### Create feautures and labels"
   ]
  },
  {
   "cell_type": "code",
   "execution_count": 3,
   "id": "8959625b",
   "metadata": {},
   "outputs": [],
   "source": [
    "features = df.iloc[:,:-1]\n",
    "labels = df.iloc[:,-1]\n",
    "features = features.drop('Serial No.', axis=1)\n"
   ]
  },
  {
   "cell_type": "code",
   "execution_count": 4,
   "id": "94457f37",
   "metadata": {},
   "outputs": [
    {
     "name": "stdout",
     "output_type": "stream",
     "text": [
      "     GRE Score  TOEFL Score  University Rating  SOP  LOR   CGPA  Research\n",
      "0          337          118                  4  4.5   4.5  9.65         1\n",
      "1          324          107                  4  4.0   4.5  8.87         1\n",
      "2          316          104                  3  3.0   3.5  8.00         1\n",
      "3          322          110                  3  3.5   2.5  8.67         1\n",
      "4          314          103                  2  2.0   3.0  8.21         0\n",
      "..         ...          ...                ...  ...   ...   ...       ...\n",
      "495        332          108                  5  4.5   4.0  9.02         1\n",
      "496        337          117                  5  5.0   5.0  9.87         1\n",
      "497        330          120                  5  4.5   5.0  9.56         1\n",
      "498        312          103                  4  4.0   5.0  8.43         0\n",
      "499        327          113                  4  4.5   4.5  9.04         0\n",
      "\n",
      "[500 rows x 7 columns]\n",
      "0      0.92\n",
      "1      0.76\n",
      "2      0.72\n",
      "3      0.80\n",
      "4      0.65\n",
      "       ... \n",
      "495    0.87\n",
      "496    0.96\n",
      "497    0.93\n",
      "498    0.73\n",
      "499    0.84\n",
      "Name: Chance of Admit , Length: 500, dtype: float64\n"
     ]
    }
   ],
   "source": [
    "print(features)\n",
    "print(labels)"
   ]
  },
  {
   "cell_type": "markdown",
   "id": "d87131eb",
   "metadata": {},
   "source": [
    "#### Split into training and test set"
   ]
  },
  {
   "cell_type": "code",
   "execution_count": 5,
   "id": "4195640e",
   "metadata": {},
   "outputs": [],
   "source": [
    "from sklearn.model_selection import train_test_split"
   ]
  },
  {
   "cell_type": "code",
   "execution_count": 6,
   "id": "68066a34",
   "metadata": {},
   "outputs": [],
   "source": [
    "features_training_set, features_test_set, labels_training_set, labels_test_set = train_test_split(features, labels, \n",
    "                                                                                   test_size=0.20, random_state=42)"
   ]
  },
  {
   "cell_type": "markdown",
   "id": "9ce690a8",
   "metadata": {},
   "source": [
    "#### Scaling and Normalizing numerical data"
   ]
  },
  {
   "cell_type": "code",
   "execution_count": 7,
   "id": "74424425",
   "metadata": {},
   "outputs": [],
   "source": [
    "from sklearn.preprocessing import StandardScaler\n",
    "from sklearn.preprocessing import Normalizer\n",
    "from sklearn.compose import ColumnTransformer\n"
   ]
  },
  {
   "cell_type": "code",
   "execution_count": 8,
   "id": "2c441b9a",
   "metadata": {},
   "outputs": [],
   "source": [
    "scaler = ColumnTransformer([('scale', StandardScaler(), ['GRE Score', 'TOEFL Score', 'University Rating', 'SOP',\n",
    "       'LOR ', 'CGPA', 'Research'])], remainder='passthrough')\n",
    "#fit the scaler to the training data and test data\n",
    "features_training_set_scale = scaler.fit_transform(features_training_set) \n",
    "features_test_set_scale = scaler.transform(features_test_set) \n",
    "\n",
    "#ColumnTransformer returns numpy arrays. Convert the features to dataframes\n",
    "features_training_set_scale = pd.DataFrame(features_training_set_scale, columns = features_training_set.columns)\n",
    "features_test_set_scale = pd.DataFrame(features_test_set_scale, columns = features_test_set.columns)"
   ]
  },
  {
   "cell_type": "markdown",
   "id": "e10f6d97",
   "metadata": {},
   "source": [
    "#### Creating a function of tensorflow model"
   ]
  },
  {
   "cell_type": "code",
   "execution_count": 9,
   "id": "a15a3e10",
   "metadata": {},
   "outputs": [],
   "source": [
    "from tensorflow.keras.models import Sequential\n",
    "from tensorflow.keras.layers import InputLayer\n",
    "from tensorflow.keras.optimizers import Adam\n",
    "from tensorflow.keras.layers import Dense"
   ]
  },
  {
   "cell_type": "code",
   "execution_count": 10,
   "id": "f833a1f1",
   "metadata": {},
   "outputs": [],
   "source": [
    "def regression_model(features):\n",
    "    num_features = features.shape[1] \n",
    "    model = Sequential()\n",
    "    input = InputLayer(input_shape = (num_features, ))\n",
    "    model.add(input)\n",
    "    model.add(Dense(64, activation='relu'))\n",
    "    model.add(Dense(1))\n",
    "    print(model.summary())\n",
    "    return model\n"
   ]
  },
  {
   "cell_type": "markdown",
   "id": "a2f6f9a8",
   "metadata": {},
   "source": [
    "#### Compile and fit model"
   ]
  },
  {
   "cell_type": "code",
   "execution_count": 11,
   "id": "08d4c418",
   "metadata": {
    "scrolled": true
   },
   "outputs": [
    {
     "name": "stdout",
     "output_type": "stream",
     "text": [
      "Metal device set to: Apple M1\n",
      "Model: \"sequential\"\n",
      "_________________________________________________________________\n",
      "Layer (type)                 Output Shape              Param #   \n",
      "=================================================================\n",
      "dense (Dense)                (None, 64)                512       \n",
      "_________________________________________________________________\n",
      "dense_1 (Dense)              (None, 1)                 65        \n",
      "=================================================================\n",
      "Total params: 577\n",
      "Trainable params: 577\n",
      "Non-trainable params: 0\n",
      "_________________________________________________________________\n",
      "None\n"
     ]
    },
    {
     "name": "stderr",
     "output_type": "stream",
     "text": [
      "2021-07-25 17:04:16.315540: I tensorflow/core/common_runtime/pluggable_device/pluggable_device_factory.cc:305] Could not identify NUMA node of platform GPU ID 0, defaulting to 0. Your kernel may not have been built with NUMA support.\n",
      "2021-07-25 17:04:16.315642: I tensorflow/core/common_runtime/pluggable_device/pluggable_device_factory.cc:271] Created TensorFlow device (/job:localhost/replica:0/task:0/device:GPU:0 with 0 MB memory) -> physical PluggableDevice (device: 0, name: METAL, pci bus id: <undefined>)\n"
     ]
    }
   ],
   "source": [
    "model = regression_model(features_training_set_scale)\n",
    "opt = Adam(learning_rate=0.1)"
   ]
  },
  {
   "cell_type": "code",
   "execution_count": 12,
   "id": "47bfa141",
   "metadata": {},
   "outputs": [],
   "source": [
    "model.compile(loss='mse', metrics=['mae'], optimizer=opt)"
   ]
  },
  {
   "cell_type": "code",
   "execution_count": null,
   "id": "241256fb",
   "metadata": {},
   "outputs": [
    {
     "name": "stdout",
     "output_type": "stream",
     "text": [
      "Epoch 1/40\n"
     ]
    },
    {
     "name": "stderr",
     "output_type": "stream",
     "text": [
      "2021-07-25 17:04:16.420255: I tensorflow/compiler/mlir/mlir_graph_optimization_pass.cc:176] None of the MLIR Optimization Passes are enabled (registered 2)\n",
      "2021-07-25 17:04:16.423120: W tensorflow/core/platform/profile_utils/cpu_utils.cc:128] Failed to get CPU frequency: 0 Hz\n"
     ]
    }
   ],
   "source": [
    "model.fit(features_training_set_scale, labels_training_set, epochs=40, batch_size = 1, verbose = 1)"
   ]
  },
  {
   "cell_type": "markdown",
   "id": "ec65386a",
   "metadata": {},
   "source": [
    "#### Evaluate on testing data"
   ]
  },
  {
   "cell_type": "code",
   "execution_count": null,
   "id": "e86f7907",
   "metadata": {},
   "outputs": [],
   "source": [
    "val_mse, val_mae = model.evaluate(features_test_set_scale, labels_test_set, verbose=0)\n",
    " \n",
    "print(\"MAE: \", val_mae)\n",
    "print(\"MSE: \", val_mse)"
   ]
  },
  {
   "cell_type": "code",
   "execution_count": null,
   "id": "6a0f361c",
   "metadata": {},
   "outputs": [],
   "source": [
    "from sklearn.metrics import r2_score\n",
    "predicted_values = model.predict(features_test_set_scale)\n",
    "r2_score(labels_test_set, predicted_values)\n",
    "#R-squared score near zero showing strength of regression model"
   ]
  }
 ],
 "metadata": {
  "kernelspec": {
   "display_name": "Python 3.8 (tensorflow)",
   "language": "python",
   "name": "tensorflow"
  },
  "language_info": {
   "codemirror_mode": {
    "name": "ipython",
    "version": 3
   },
   "file_extension": ".py",
   "mimetype": "text/x-python",
   "name": "python",
   "nbconvert_exporter": "python",
   "pygments_lexer": "ipython3",
   "version": "3.8.10"
  }
 },
 "nbformat": 4,
 "nbformat_minor": 5
}

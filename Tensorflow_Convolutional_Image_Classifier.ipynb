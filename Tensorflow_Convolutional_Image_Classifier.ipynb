{
  "nbformat": 4,
  "nbformat_minor": 0,
  "metadata": {
    "colab": {
      "name": "Tensorflow_Convolutional_Image_Classifier.ipynb",
      "provenance": [],
      "collapsed_sections": []
    },
    "kernelspec": {
      "name": "python3",
      "display_name": "Python 3"
    },
    "language_info": {
      "name": "python"
    }
  },
  "cells": [
    {
      "cell_type": "markdown",
      "metadata": {
        "id": "7dk85sCa-mpu"
      },
      "source": [
        "### Import and reshape data\n"
      ]
    },
    {
      "cell_type": "code",
      "metadata": {
        "id": "fXGA-C948dRl"
      },
      "source": [
        "import tensorflow as tf\n",
        "mnist = tf.keras.datasets.fashion_mnist\n",
        "(training_images, training_labels), (test_images, test_labels) = mnist.load_data()\n",
        "\n",
        "#training and testing images need reshaping to a single 4D type \n",
        "training_images=training_images.reshape(60000, 28, 28, 1)\n",
        "training_images = training_images/255.0\n",
        "test_images = test_images.reshape(10000, 28, 28, 1)\n",
        "test_images = test_images/255.0"
      ],
      "execution_count": 2,
      "outputs": []
    },
    {
      "cell_type": "markdown",
      "metadata": {
        "id": "SU4tQHCO-Xha"
      },
      "source": [
        "### Set up convolutional model"
      ]
    },
    {
      "cell_type": "code",
      "metadata": {
        "id": "z1WWClQu-vrF"
      },
      "source": [
        "model = tf.keras.models.Sequential([\n",
        "tf.keras.layers.Conv2D(32, (3, 3), activation='relu', input_shape=(28, 28, 1)),\n",
        "tf.keras.layers.MaxPooling2D(2, 2),\n",
        "#Adding another convolution\n",
        "tf.keras.layers.Conv2D(64, (3,3), activation='relu'),\n",
        "tf.keras.layers.MaxPooling2D(2, 2),\n",
        "#Flatten the output\n",
        "tf.keras.layers.Flatten(),\n",
        "#128 dense layers, and 10 output layers\n",
        "tf.keras.layers.Dense(128, activation='relu'),\n",
        "tf.keras.layers.Dense(10, activation='softmax')\n",
        "])"
      ],
      "execution_count": 3,
      "outputs": []
    },
    {
      "cell_type": "markdown",
      "metadata": {
        "id": "P9J-zly7A0_m"
      },
      "source": [
        "### Compile and fit data"
      ]
    },
    {
      "cell_type": "code",
      "metadata": {
        "colab": {
          "base_uri": "https://localhost:8080/"
        },
        "id": "544qYFomA94F",
        "outputId": "3f0acab4-d0f3-458b-f614-53d2e954b76c"
      },
      "source": [
        "model.compile(optimizer='adam', loss='sparse_categorical_crossentropy', metrics=['accuracy'])\n",
        "model.fit(training_images, training_labels, epochs=5)\n",
        "test_loss, test_acc = model.evaluate(test_images, test_labels)\n",
        "print ('Test loss: {}, Test accuracy: {}'.format(test_loss, test_acc*100))"
      ],
      "execution_count": 4,
      "outputs": [
        {
          "output_type": "stream",
          "text": [
            "Epoch 1/5\n",
            "1875/1875 [==============================] - 46s 24ms/step - loss: 0.6159 - accuracy: 0.7755\n",
            "Epoch 2/5\n",
            "1875/1875 [==============================] - 45s 24ms/step - loss: 0.3024 - accuracy: 0.8891\n",
            "Epoch 3/5\n",
            "1875/1875 [==============================] - 45s 24ms/step - loss: 0.2517 - accuracy: 0.9071\n",
            "Epoch 4/5\n",
            "1875/1875 [==============================] - 45s 24ms/step - loss: 0.2196 - accuracy: 0.9171\n",
            "Epoch 5/5\n",
            "1875/1875 [==============================] - 45s 24ms/step - loss: 0.1909 - accuracy: 0.9295\n",
            "313/313 [==============================] - 2s 7ms/step - loss: 0.2470 - accuracy: 0.9128\n",
            "Test loss: 0.24695761501789093, Test accuracy: 91.28000140190125\n"
          ],
          "name": "stdout"
        }
      ]
    }
  ]
}